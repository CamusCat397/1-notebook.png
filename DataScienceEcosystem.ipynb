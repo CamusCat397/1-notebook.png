{
 "cells": [
  {
   "cell_type": "markdown",
   "id": "1fc125df-f23d-45aa-a59b-870d7d68b5c2",
   "metadata": {},
   "source": [
    "# Data Science Tools and Ecosystem"
   ]
  },
  {
   "cell_type": "markdown",
   "id": "677f1187-c9cf-4a49-9805-6da12fcd5661",
   "metadata": {},
   "source": [
    "## In this notebook, Data Science Tools and Ecosystem are summarized."
   ]
  },
  {
   "cell_type": "markdown",
   "id": "4a1f3b97-898c-4e3f-b8ac-c154f9e69ce7",
   "metadata": {},
   "source": [
    "**Objectives**"
   ]
  },
  {
   "cell_type": "markdown",
   "id": "2f96c422-9608-411f-a529-a26bf4b831ff",
   "metadata": {},
   "source": [
    "* Popular languages that Data Scientists use\n",
    "* Commonly used libraries used by Data Scientists\n",
    "* Commonly tools used by Data Scientists"
   ]
  },
  {
   "cell_type": "markdown",
   "id": "5c92b2ab-8d1a-446e-9edf-a252c3f0a263",
   "metadata": {},
   "source": [
    "## Some of the popular languages that Data Scientists use are:"
   ]
  },
  {
   "cell_type": "markdown",
   "id": "fde99cc2-ddae-4e5d-9a93-875191247cab",
   "metadata": {},
   "source": [
    "1. Python\n",
    "2. R\n",
    "3. SQL"
   ]
  },
  {
   "cell_type": "markdown",
   "id": "02a45be3-8521-4f7f-b315-a3dd547b4197",
   "metadata": {},
   "source": [
    "## Some of the commonly used libraries used by Data Scientists include:\n",
    "1. Pandas\n",
    "2. Scikit-learn\n",
    "3. NumPy"
   ]
  },
  {
   "cell_type": "markdown",
   "id": "4b2bae9c-a973-4dfd-95d3-ba3a96f1b519",
   "metadata": {},
   "source": [
    "| Data Science Tools       |\n",
    "|--------------------------|\n",
    "| Jupyter Notebook         |\n",
    "| RStudio                  |\n",
    "| Apache Zeppelin          |"
   ]
  },
  {
   "cell_type": "markdown",
   "id": "90cf0736-a7ec-4a33-af2a-9f4abb4d67f0",
   "metadata": {},
   "source": [
    "### Below are a few examples of evaluating arithmetic expressions in Python"
   ]
  },
  {
   "cell_type": "markdown",
   "id": "47538890-1fd6-4ab1-b1ac-7ca975dbbe3b",
   "metadata": {},
   "source": [
    "#### This a simple arithmetic expression to mutiply then add integers"
   ]
  },
  {
   "cell_type": "code",
   "execution_count": 37,
   "id": "18a5f93b-71c6-4d9b-afe8-13a75b03fc37",
   "metadata": {},
   "outputs": [
    {
     "data": {
      "text/plain": [
       "17"
      ]
     },
     "execution_count": 37,
     "metadata": {},
     "output_type": "execute_result"
    }
   ],
   "source": [
    "(3*4)+5"
   ]
  },
  {
   "cell_type": "markdown",
   "id": "bb7a9fc6-e984-48a5-93eb-ffe9e8f0ae5b",
   "metadata": {},
   "source": [
    "#### This will convert 200 minutes to hours by diving by 60"
   ]
  },
  {
   "cell_type": "code",
   "execution_count": 43,
   "id": "44cecb8f-73cc-4145-86e9-0196c3239b76",
   "metadata": {},
   "outputs": [],
   "source": [
    "hours = 200/60"
   ]
  },
  {
   "cell_type": "code",
   "execution_count": 45,
   "id": "cbd47c9f-3ed3-4a5d-bc4b-54418dc16937",
   "metadata": {},
   "outputs": [
    {
     "name": "stdout",
     "output_type": "stream",
     "text": [
      "3.3333333333333335\n"
     ]
    }
   ],
   "source": [
    "print(hours)"
   ]
  },
  {
   "cell_type": "markdown",
   "id": "160c12df-966c-4e69-8712-af18b25c326c",
   "metadata": {},
   "source": [
    "## Author\n",
    "Cosette Carranza"
   ]
  },
  {
   "cell_type": "code",
   "execution_count": null,
   "id": "a253c935-077f-4057-af86-2132818e4af3",
   "metadata": {},
   "outputs": [],
   "source": []
  },
  {
   "cell_type": "code",
   "execution_count": null,
   "id": "97061731-2ded-4dc0-bc9d-4138d0afa447",
   "metadata": {},
   "outputs": [],
   "source": []
  }
 ],
 "metadata": {
  "kernelspec": {
   "display_name": "anaconda-ai-2024.04-py310",
   "language": "python",
   "name": "conda-env-anaconda-ai-2024.04-py310-py"
  },
  "language_info": {
   "codemirror_mode": {
    "name": "ipython",
    "version": 3
   },
   "file_extension": ".py",
   "mimetype": "text/x-python",
   "name": "python",
   "nbconvert_exporter": "python",
   "pygments_lexer": "ipython3",
   "version": "3.10.13"
  }
 },
 "nbformat": 4,
 "nbformat_minor": 5
}
